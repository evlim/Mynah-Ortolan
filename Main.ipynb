{
 "cells": [
  {
   "cell_type": "markdown",
   "metadata": {},
   "source": [
    "# Code"
   ]
  },
  {
   "cell_type": "markdown",
   "metadata": {},
   "source": [
    "## Constraints\n",
    "\n",
    "Voice Range:\n",
    "LilyPond\n",
    "\n",
    "Soprano:\n",
    "{\n",
    "  \\clef treble\n",
    "  c5 g6\n",
    "}\n",
    "\n",
    "Alto:\n",
    "{\n",
    "  \\clef treble\n",
    "  g4 c5\n",
    "}\n",
    "\n",
    "Tenor:\n",
    "{\n",
    "  \\clef bass\n",
    "  c4 g5\n",
    "}\n",
    "\n",
    "Bass:\n",
    "{\n",
    "  \\clef bass\n",
    "  f3 c5\n",
    "}"
   ]
  },
  {
   "cell_type": "markdown",
   "metadata": {},
   "source": [
    "### Voice Leading\n"
   ]
  },
  {
   "cell_type": "code",
   "execution_count": null,
   "metadata": {},
   "outputs": [],
   "source": [
    "Def loc # define music pitch location\n",
    "\n",
    "voice = [saprono,auto,tenor,bass]\n",
    "v = voice[x=...] # saprono,auto,tenor,bass\n",
    "\n",
    "for i in range(len(voice[v])):\n",
    "    if i = 0:\n",
    "        # initial cord, would try spread out (or look at the bass line foward and avoid tender being too low)\n",
    "    while i > 0:\n",
    "        if loc[i-1] #### if loc[i-1] is a possible path then loc[i] = loc[i-1]\n",
    "  \n",
    "    \n"
   ]
  }
 ],
 "metadata": {
  "kernelspec": {
   "display_name": "Python 3",
   "language": "python",
   "name": "python3"
  },
  "language_info": {
   "codemirror_mode": {
    "name": "ipython",
    "version": 3
   },
   "file_extension": ".py",
   "mimetype": "text/x-python",
   "name": "python",
   "nbconvert_exporter": "python",
   "pygments_lexer": "ipython3",
   "version": "3.7.7"
  }
 },
 "nbformat": 4,
 "nbformat_minor": 4
}
